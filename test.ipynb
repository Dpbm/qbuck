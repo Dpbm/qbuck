{
 "cells": [
  {
   "cell_type": "code",
   "execution_count": 2,
   "id": "d631fd44",
   "metadata": {},
   "outputs": [],
   "source": [
    "from qiskit_aer import AerSimulator"
   ]
  },
  {
   "cell_type": "code",
   "execution_count": 3,
   "id": "28d34c65",
   "metadata": {},
   "outputs": [],
   "source": [
    "sim = AerSimulator()"
   ]
  },
  {
   "cell_type": "code",
   "execution_count": null,
   "id": "7118f9b2",
   "metadata": {},
   "outputs": [
    {
     "data": {
      "text/plain": [
       "['_AVAILABLE_DEVICES',\n",
       " '_AVAILABLE_METHODS',\n",
       " '_BASIS_GATES',\n",
       " '_CUSTOM_INSTR',\n",
       " '_DEFAULT_CONFIGURATION',\n",
       " '_SIMULATION_DEVICES',\n",
       " '_SIMULATION_METHODS',\n",
       " '__abstractmethods__',\n",
       " '__class__',\n",
       " '__delattr__',\n",
       " '__dict__',\n",
       " '__dir__',\n",
       " '__doc__',\n",
       " '__eq__',\n",
       " '__format__',\n",
       " '__ge__',\n",
       " '__getattribute__',\n",
       " '__getstate__',\n",
       " '__gt__',\n",
       " '__hash__',\n",
       " '__init__',\n",
       " '__init_subclass__',\n",
       " '__le__',\n",
       " '__lt__',\n",
       " '__module__',\n",
       " '__ne__',\n",
       " '__new__',\n",
       " '__reduce__',\n",
       " '__reduce_ex__',\n",
       " '__repr__',\n",
       " '__setattr__',\n",
       " '__sizeof__',\n",
       " '__slots__',\n",
       " '__str__',\n",
       " '__subclasshook__',\n",
       " '__weakref__',\n",
       " '_abc_impl',\n",
       " '_assemble_noise_model',\n",
       " '_basis_gates',\n",
       " '_cached_basis_gates',\n",
       " '_check_basis_gates',\n",
       " '_compile',\n",
       " '_configuration',\n",
       " '_controller',\n",
       " '_convert_binds',\n",
       " '_convert_circuit_binds',\n",
       " '_coupling_map',\n",
       " '_default_options',\n",
       " '_execute_circuits',\n",
       " '_execute_circuits_job',\n",
       " '_format_results',\n",
       " '_from_backend',\n",
       " '_get_executor',\n",
       " '_mapping',\n",
       " '_options',\n",
       " '_options_configuration',\n",
       " '_options_properties',\n",
       " '_properties',\n",
       " '_provider',\n",
       " '_run_circuits',\n",
       " '_set_configuration_option',\n",
       " '_set_method_config',\n",
       " '_set_properties_option',\n",
       " '_target',\n",
       " 'available_devices',\n",
       " 'available_methods',\n",
       " 'backend_version',\n",
       " 'clear_options',\n",
       " 'configuration',\n",
       " 'coupling_map',\n",
       " 'description',\n",
       " 'dt',\n",
       " 'dtm',\n",
       " 'from_backend',\n",
       " 'instruction_durations',\n",
       " 'instructions',\n",
       " 'max_circuits',\n",
       " 'meas_map',\n",
       " 'name',\n",
       " 'num_qubits',\n",
       " 'online_date',\n",
       " 'operation_names',\n",
       " 'operations',\n",
       " 'options',\n",
       " 'properties',\n",
       " 'provider',\n",
       " 'qubit_properties',\n",
       " 'run',\n",
       " 'set_max_qubits',\n",
       " 'set_option',\n",
       " 'set_options',\n",
       " 'target',\n",
       " 'version']"
      ]
     },
     "execution_count": 5,
     "metadata": {},
     "output_type": "execute_result"
    }
   ],
   "source": [
    "dir(sim)"
   ]
  },
  {
   "cell_type": "code",
   "execution_count": 10,
   "id": "0b519aae",
   "metadata": {},
   "outputs": [
    {
     "data": {
      "text/plain": [
       "Options(shots=1024, method='automatic', device='CPU', precision='double', executor=None, max_job_size=None, max_shot_size=None, enable_truncation=True, zero_threshold=1e-10, validation_threshold=None, max_parallel_threads=None, max_parallel_experiments=None, max_parallel_shots=None, max_memory_mb=None, fusion_enable=True, fusion_verbose=False, fusion_max_qubit=None, fusion_threshold=None, accept_distributed_results=None, memory=None, noise_model=None, seed_simulator=None, cuStateVec_enable=False, blocking_qubits=None, blocking_enable=False, chunk_swap_buffer_qubits=None, batched_shots_gpu=False, batched_shots_gpu_max_qubits=16, num_threads_per_device=1, shot_branching_enable=False, shot_branching_sampling_enable=False, statevector_parallel_threshold=14, statevector_sample_measure_opt=10, stabilizer_max_snapshot_probabilities=32, extended_stabilizer_sampling_method='resampled_metropolis', extended_stabilizer_metropolis_mixing_time=5000, extended_stabilizer_approximation_error=0.05, extended_stabilizer_norm_estimation_samples=100, extended_stabilizer_norm_estimation_repetitions=3, extended_stabilizer_parallel_threshold=100, extended_stabilizer_probabilities_snapshot_samples=3000, matrix_product_state_truncation_threshold=1e-16, matrix_product_state_max_bond_dimension=None, mps_sample_measure_algorithm='mps_heuristic', mps_log_data=False, mps_swap_direction='mps_swap_left', chop_threshold=1e-08, mps_parallel_threshold=14, mps_omp_threads=1, mps_lapack=False, tensor_network_num_sampling_qubits=10, use_cuTensorNet_autotuning=False, runtime_parameter_bind_enable=False)"
      ]
     },
     "execution_count": 10,
     "metadata": {},
     "output_type": "execute_result"
    }
   ],
   "source": [
    "sim.options"
   ]
  },
  {
   "cell_type": "code",
   "execution_count": 15,
   "id": "60754a5b",
   "metadata": {},
   "outputs": [
    {
     "ename": "AttributeError",
     "evalue": "Attribute seed_simulator is not defined",
     "output_type": "error",
     "traceback": [
      "\u001b[31m---------------------------------------------------------------------------\u001b[39m",
      "\u001b[31mKeyError\u001b[39m                                  Traceback (most recent call last)",
      "\u001b[36mFile \u001b[39m\u001b[32m~/projects/qbuck/.venv/lib/python3.12/site-packages/qiskit_aer/backends/backendconfiguration.py:289\u001b[39m, in \u001b[36mAerBackendConfiguration.__getattr__\u001b[39m\u001b[34m(self, name)\u001b[39m\n\u001b[32m    288\u001b[39m \u001b[38;5;28;01mtry\u001b[39;00m:\n\u001b[32m--> \u001b[39m\u001b[32m289\u001b[39m     \u001b[38;5;28;01mreturn\u001b[39;00m \u001b[38;5;28;43mself\u001b[39;49m\u001b[43m.\u001b[49m\u001b[43m_data\u001b[49m\u001b[43m[\u001b[49m\u001b[43mname\u001b[49m\u001b[43m]\u001b[49m\n\u001b[32m    290\u001b[39m \u001b[38;5;28;01mexcept\u001b[39;00m \u001b[38;5;167;01mKeyError\u001b[39;00m \u001b[38;5;28;01mas\u001b[39;00m ex:\n",
      "\u001b[31mKeyError\u001b[39m: 'seed_simulator'",
      "\nThe above exception was the direct cause of the following exception:\n",
      "\u001b[31mAttributeError\u001b[39m                            Traceback (most recent call last)",
      "\u001b[36mCell\u001b[39m\u001b[36m \u001b[39m\u001b[32mIn[15]\u001b[39m\u001b[32m, line 1\u001b[39m\n\u001b[32m----> \u001b[39m\u001b[32m1\u001b[39m \u001b[43msim\u001b[49m\u001b[43m.\u001b[49m\u001b[43mconfiguration\u001b[49m\u001b[43m(\u001b[49m\u001b[43m)\u001b[49m\u001b[43m.\u001b[49m\u001b[43mseed_simulator\u001b[49m\n",
      "\u001b[36mFile \u001b[39m\u001b[32m~/projects/qbuck/.venv/lib/python3.12/site-packages/qiskit_aer/backends/backendconfiguration.py:291\u001b[39m, in \u001b[36mAerBackendConfiguration.__getattr__\u001b[39m\u001b[34m(self, name)\u001b[39m\n\u001b[32m    289\u001b[39m     \u001b[38;5;28;01mreturn\u001b[39;00m \u001b[38;5;28mself\u001b[39m._data[name]\n\u001b[32m    290\u001b[39m \u001b[38;5;28;01mexcept\u001b[39;00m \u001b[38;5;167;01mKeyError\u001b[39;00m \u001b[38;5;28;01mas\u001b[39;00m ex:\n\u001b[32m--> \u001b[39m\u001b[32m291\u001b[39m     \u001b[38;5;28;01mraise\u001b[39;00m \u001b[38;5;167;01mAttributeError\u001b[39;00m(\u001b[33mf\u001b[39m\u001b[33m\"\u001b[39m\u001b[33mAttribute \u001b[39m\u001b[38;5;132;01m{\u001b[39;00mname\u001b[38;5;132;01m}\u001b[39;00m\u001b[33m is not defined\u001b[39m\u001b[33m\"\u001b[39m) \u001b[38;5;28;01mfrom\u001b[39;00m\u001b[38;5;250m \u001b[39m\u001b[34;01mex\u001b[39;00m\n",
      "\u001b[31mAttributeError\u001b[39m: Attribute seed_simulator is not defined"
     ]
    }
   ],
   "source": [
    "sim.configuration().seed_simulator"
   ]
  }
 ],
 "metadata": {
  "kernelspec": {
   "display_name": "qbuck",
   "language": "python",
   "name": "python3"
  },
  "language_info": {
   "codemirror_mode": {
    "name": "ipython",
    "version": 3
   },
   "file_extension": ".py",
   "mimetype": "text/x-python",
   "name": "python",
   "nbconvert_exporter": "python",
   "pygments_lexer": "ipython3",
   "version": "3.12.10"
  }
 },
 "nbformat": 4,
 "nbformat_minor": 5
}
